{
 "cells": [
  {
   "cell_type": "markdown",
   "metadata": {},
   "source": [
    "# Repositorio de códigos\n",
    "**Clase 3 del curso** *'Iniciación a la programación con Python'* **de la Facultad de Ingeniería UNLP**"
   ]
  },
  {
   "cell_type": "markdown",
   "metadata": {},
   "source": [
    "Como todos los lenguajes de programación - y cualquier sistema de comunicación en general - , para aprender Python necesitaremos aprender su vocabulario y sintaxis.\n",
    "\n",
    "Con *vocabulario* nos referimos a aquellas palabras propias del lenguaje que servirán para comunicarnos con el procesador.\n",
    "Con *sintaxis* nos referimos a la estructura que tiene el lenguaje, que hace que las órdenes que escribamos tengan sentido.\n",
    "\n",
    "## **Variables en Python**\n",
    "Diremos por ahora que una *variable* es un lugar donde guardamos determinados datos. Este lugar (o dirección de memoria) se genera dentro de la memoria principal. \n",
    "\n",
    "Designamos una variable en python con un **nombre** usando el símbolo **=**.\n",
    "\n"
   ]
  },
  {
   "cell_type": "code",
   "execution_count": null,
   "metadata": {},
   "outputs": [],
   "source": [
    "#ejemplos de designación de variables en python \n",
    "\n",
    "nombre_de_abuela = 'Chela'\n",
    "edad_de_abuela = 97\n",
    "si_esta_luz_prendida = True\n"
   ]
  },
  {
   "cell_type": "markdown",
   "metadata": {},
   "source": [
    "El *nombre* de una variable en Python debe siempre empezar con una letra, y ser diferente a cualquier comando de Python (por ejemplo, no puede una variable llamarse *print* ni *input*).\n",
    "\n",
    "Como vemos en el ejemplo, hay diferentes tipos de datos, y cada uno de estos tipos tiene un identificador. El comando <type()> indica el tipo de variable que hay en su argumento. La ejecución del comando devuelve el identificador de la variable en Python:"
   ]
  },
  {
   "cell_type": "markdown",
   "metadata": {},
   "source": [
    "### **Tipos de datos más comunes**"
   ]
  },
  {
   "cell_type": "code",
   "execution_count": 14,
   "metadata": {},
   "outputs": [
    {
     "name": "stdout",
     "output_type": "stream",
     "text": [
      "<class 'str'>\n"
     ]
    }
   ],
   "source": [
    "\n",
    "ejemplo_var_caracter = 'Hoy es viernes 23 de septiembre'\n",
    "type(ejemplo_var_caracter)\n",
    "print(type(ejemplo_var_caracter))  #para que se muestre en consola el \n",
    "                                   #resultado de type(), tal vez debas\n",
    "                                   #inlcuirlo dentro de un comando print()"
   ]
  },
  {
   "cell_type": "code",
   "execution_count": 15,
   "metadata": {},
   "outputs": [
    {
     "data": {
      "text/plain": [
       "int"
      ]
     },
     "execution_count": 15,
     "metadata": {},
     "output_type": "execute_result"
    }
   ],
   "source": [
    "\n",
    "ejemplo_num_entero = 56\n",
    "type(ejemplo_num_entero)\n"
   ]
  },
  {
   "cell_type": "code",
   "execution_count": 16,
   "metadata": {},
   "outputs": [
    {
     "data": {
      "text/plain": [
       "float"
      ]
     },
     "execution_count": 16,
     "metadata": {},
     "output_type": "execute_result"
    }
   ],
   "source": [
    "\n",
    "ejemplo_num_real = 2.56\n",
    "type(ejemplo_num_real)\n"
   ]
  },
  {
   "cell_type": "code",
   "execution_count": 17,
   "metadata": {},
   "outputs": [
    {
     "data": {
      "text/plain": [
       "complex"
      ]
     },
     "execution_count": 17,
     "metadata": {},
     "output_type": "execute_result"
    }
   ],
   "source": [
    "\n",
    "ejemplo_num_complejo = 5-8j\n",
    "type(ejemplo_num_complejo)\n"
   ]
  },
  {
   "cell_type": "code",
   "execution_count": 18,
   "metadata": {},
   "outputs": [
    {
     "data": {
      "text/plain": [
       "bool"
      ]
     },
     "execution_count": 18,
     "metadata": {},
     "output_type": "execute_result"
    }
   ],
   "source": [
    "\n",
    "ejemplo_var_booleana = False\n",
    "type(ejemplo_var_booleana)\n"
   ]
  },
  {
   "cell_type": "markdown",
   "metadata": {},
   "source": [
    "### **Mostrando datos en consola** el comando print()###\n",
    "\n",
    "Cuando escribimos una serie de órdenes con operadores, ejecutar ciertas funciones, modificar datos o variables, estos se realizan en la memoria principal, y no se muestran en terminales del sistema operativo. Si queremos que el valor de una variable (u operación) sea mostrado en consola, tendremos que usar el comando <print()>\n",
    "\n",
    "**Un poco de historia** antiguamente, los ordenadores tenían pequeñas pantallas, o directamente no tenían. Los datos que emergían de los programas eran impresos en papel. De ahí que para mostrar los valores de alguna variable, operación, función, etc se usase el comando <print()>\n"
   ]
  },
  {
   "cell_type": "code",
   "execution_count": null,
   "metadata": {},
   "outputs": [],
   "source": [
    "a = 25\n",
    "b = 4\n",
    "c = a * b   #como observarás, si ejecutamos estas líneas no\n",
    "            #observaremos un resultado en consola"
   ]
  },
  {
   "cell_type": "code",
   "execution_count": null,
   "metadata": {},
   "outputs": [
    {
     "name": "stdout",
     "output_type": "stream",
     "text": [
      "534\n"
     ]
    }
   ],
   "source": [
    "e = 89\n",
    "f = 6\n",
    "g = e * f\n",
    "print(g)   #con el comando print() ponemos de manifiesto el valor\n",
    "           #de la variable g"
   ]
  },
  {
   "cell_type": "markdown",
   "metadata": {},
   "source": [
    "En el argumento del comando print(), puede haber el nombre de una variable de la que se desee conocer su valor, o un valor directo que desee imprimirse en pantalla, o algún cálculo. "
   ]
  },
  {
   "cell_type": "code",
   "execution_count": null,
   "metadata": {},
   "outputs": [
    {
     "name": "stdout",
     "output_type": "stream",
     "text": [
      "11.8\n",
      "Hola mundo!\n",
      "-2.6\n"
     ]
    }
   ],
   "source": [
    "print(4.8 + 7)                     #esta serie de prints imprimen valores directos\n",
    "print ('Hola mundo!')              #sin estar referenciados a una variable existente.\n",
    "print(-2.6)"
   ]
  }
 ],
 "metadata": {
  "kernelspec": {
   "display_name": "Python 3.10.2 64-bit",
   "language": "python",
   "name": "python3"
  },
  "language_info": {
   "codemirror_mode": {
    "name": "ipython",
    "version": 3
   },
   "file_extension": ".py",
   "mimetype": "text/x-python",
   "name": "python",
   "nbconvert_exporter": "python",
   "pygments_lexer": "ipython3",
   "version": "3.10.2"
  },
  "orig_nbformat": 4,
  "vscode": {
   "interpreter": {
    "hash": "dfdbfa3f953fa9e8de1a727416621a5ac5dfad0454f94f675dbba624c1c61e2f"
   }
  }
 },
 "nbformat": 4,
 "nbformat_minor": 2
}
